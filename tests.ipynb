{
 "cells": [
  {
   "cell_type": "code",
   "execution_count": 1,
   "metadata": {},
   "outputs": [
    {
     "name": "stdout",
     "output_type": "stream",
     "text": [
      "{\n",
      "    \"news_data\": {\n",
      "        \"statusCode\": 200,\n",
      "        \"body\": [\n",
      "            {\n",
      "                \"Date\": \"2024-05-30\",\n",
      "                \"Title\": \"European bitcoin ETPs suffer mounting outflows\"\n",
      "            },\n",
      "            {\n",
      "                \"Date\": \"2024-05-24\",\n",
      "                \"Title\": \"British-Chinese bitcoin money launderer jailed for over 6 years\"\n",
      "            },\n",
      "            {\n",
      "                \"Date\": \"2024-05-24\",\n",
      "                \"Title\": \"Cryptofinance: into the ether\"\n",
      "            },\n",
      "            {\n",
      "                \"Date\": \"2024-05-23\",\n",
      "                \"Title\": \"SEC paves way for ethereum ETFs in boost for crypto\"\n",
      "            }\n",
      "        ]\n",
      "    }\n",
      "}\n"
     ]
    }
   ],
   "source": [
    "import json\n",
    "\n",
    "# Your original data\n",
    "data = {\n",
    "  \"statusCode\": 200,\n",
    "  \"body\": [\n",
    "    {\n",
    "      \"Date\": \"2024-05-30\",\n",
    "      \"Title\": \"European bitcoin ETPs suffer mounting outflows\"\n",
    "    },\n",
    "    {\n",
    "      \"Date\": \"2024-05-24\",\n",
    "      \"Title\": \"British-Chinese bitcoin money launderer jailed for over 6 years\"\n",
    "    },\n",
    "    {\n",
    "      \"Date\": \"2024-05-24\",\n",
    "      \"Title\": \"Cryptofinance: into the ether\"\n",
    "    },\n",
    "    {\n",
    "      \"Date\": \"2024-05-23\",\n",
    "      \"Title\": \"SEC paves way for ethereum ETFs in boost for crypto\"\n",
    "    }\n",
    "  ]\n",
    "}\n",
    "\n",
    "# Creating the new data structure with the superior branch\n",
    "new_data = {\"news_data\": data}\n",
    "\n",
    "# Now \"data\" is nested under the new branch \"news_data\"\n",
    "\n",
    "# Print the modified data (optional)\n",
    "print(json.dumps(new_data, indent=4))\n"
   ]
  }
 ],
 "metadata": {
  "kernelspec": {
   "display_name": "Project7",
   "language": "python",
   "name": "python3"
  },
  "language_info": {
   "codemirror_mode": {
    "name": "ipython",
    "version": 3
   },
   "file_extension": ".py",
   "mimetype": "text/x-python",
   "name": "python",
   "nbconvert_exporter": "python",
   "pygments_lexer": "ipython3",
   "version": "3.11.9"
  }
 },
 "nbformat": 4,
 "nbformat_minor": 2
}
