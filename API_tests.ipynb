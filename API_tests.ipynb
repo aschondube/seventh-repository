{
 "cells": [
  {
   "cell_type": "markdown",
   "metadata": {},
   "source": [
    "## Project 7 - APIs\n",
    "\n",
    "Introduction to APIs. Tests will be conducted here to get information from free APIs. "
   ]
  },
  {
   "cell_type": "code",
   "execution_count": 1,
   "metadata": {},
   "outputs": [],
   "source": [
    "# conducting tests \n",
    "\n",
    "# importing known relevant modules\n",
    "\n",
    "import requests\n",
    "import datetime as dt\n",
    "from datetime import datetime, timedelta\n",
    "import pandas as pd\n",
    "from pandas import json_normalize\n",
    "import urllib3\n",
    "import json \n",
    "import os\n",
    "from dotenv import load_dotenv, dotenv_values\n",
    "import json\n",
    "import matplotlib.pyplot as plt"
   ]
  },
  {
   "cell_type": "markdown",
   "metadata": {},
   "source": [
    "#### Step 1 - Simple API call"
   ]
  },
  {
   "cell_type": "code",
   "execution_count": 2,
   "metadata": {},
   "outputs": [
    {
     "name": "stdout",
     "output_type": "stream",
     "text": [
      "[{'avgTotalVolume': 76159320, 'calculationPrice': 'close', 'change': 2.6, 'changePercent': 0.01476, 'close': None, 'closeSource': 'official', 'closeTime': None, 'companyName': 'Tesla Inc', 'currency': 'USD', 'delayedPrice': None, 'delayedPriceTime': None, 'extendedChange': None, 'extendedChangePercent': None, 'extendedPrice': None, 'extendedPriceTime': None, 'high': None, 'highSource': None, 'highTime': None, 'iexAskPrice': 0, 'iexAskSize': 0, 'iexBidPrice': 0, 'iexBidSize': 0, 'iexClose': 178.765, 'iexCloseTime': 1717099199801, 'iexLastUpdated': 1717099199801, 'iexMarketPercent': 13.098301789469508, 'iexOpen': 178.46, 'iexOpenTime': 1717075801116, 'iexRealtimePrice': 178.765, 'iexRealtimeSize': 100, 'iexVolume': 660233, 'lastTradeTime': 1717099199982, 'latestPrice': 178.79, 'latestSource': 'Close', 'latestTime': 'May 30, 2024', 'latestUpdate': 1717099200242, 'latestVolume': None, 'low': None, 'lowSource': None, 'lowTime': None, 'marketCap': 560233109346, 'oddLotDelayedPrice': None, 'oddLotDelayedPriceTime': None, 'open': None, 'openTime': None, 'openSource': 'official', 'peRatio': 45.73, 'previousClose': 176.19, 'previousVolume': 54782649, 'primaryExchange': 'NASDAQ', 'symbol': 'TSLA', 'volume': None, 'week52High': 299.29, 'week52Low': 138.8, 'ytdChange': -0.2761688473921442, 'isUSMarketOpen': False}]\n"
     ]
    }
   ],
   "source": [
    "# API - IEX financial data \n",
    "\n",
    "# Base URL from IEX API for fetching stock data - in this case taking $TSLA\n",
    "\n",
    "base_url = 'https://api.iex.cloud/v1/data/core/' # url provided in iex gui \n",
    "\n",
    "api_key = 'pk_54799237f22d49b29d1a9135a0a1c3b3' # key/token used to authenticate user | !! - Note: keys shouldn't be disclosed if files are pushed to github (see secure methods below) \n",
    "\n",
    "info = 'quote' # quote is specified to retrieve stock prices, as they may be other type of products, commodities one could get\n",
    "\n",
    "stock = 'tsla' # choose the stock ticker/symbol you want to retrieve data from\n",
    "\n",
    "# Construct the full API request URL\n",
    "url = base_url + info + '/'+ stock + '?token=' + api_key \n",
    "\n",
    "# Make a GET request to the OpenWeatherMap API and parse the response as JSON\n",
    "response = requests.get(url).json()\n",
    "\n",
    "print(response)"
   ]
  },
  {
   "cell_type": "code",
   "execution_count": 3,
   "metadata": {},
   "outputs": [
    {
     "name": "stdout",
     "output_type": "stream",
     "text": [
      "   avgTotalVolume calculationPrice  change  changePercent close closeSource  \\\n",
      "0        76159320            close     2.6        0.01476  None    official   \n",
      "\n",
      "  closeTime companyName currency delayedPrice  ... peRatio previousClose  \\\n",
      "0      None   Tesla Inc      USD         None  ...   45.73        176.19   \n",
      "\n",
      "  previousVolume primaryExchange symbol volume week52High week52Low  \\\n",
      "0       54782649          NASDAQ   TSLA   None     299.29     138.8   \n",
      "\n",
      "   ytdChange  isUSMarketOpen  \n",
      "0  -0.276169           False  \n",
      "\n",
      "[1 rows x 56 columns]\n"
     ]
    }
   ],
   "source": [
    "# API response is a python list, so converting it to a dataframe is straightforward: \n",
    "\n",
    "df = pd.DataFrame(response)\n",
    "\n",
    "print(df)\n"
   ]
  },
  {
   "cell_type": "code",
   "execution_count": 4,
   "metadata": {},
   "outputs": [
    {
     "name": "stdout",
     "output_type": "stream",
     "text": [
      "<class 'pandas.core.frame.DataFrame'>\n",
      "RangeIndex: 1 entries, 0 to 0\n",
      "Data columns (total 56 columns):\n",
      " #   Column                  Non-Null Count  Dtype  \n",
      "---  ------                  --------------  -----  \n",
      " 0   avgTotalVolume          1 non-null      int64  \n",
      " 1   calculationPrice        1 non-null      object \n",
      " 2   change                  1 non-null      float64\n",
      " 3   changePercent           1 non-null      float64\n",
      " 4   close                   0 non-null      object \n",
      " 5   closeSource             1 non-null      object \n",
      " 6   closeTime               0 non-null      object \n",
      " 7   companyName             1 non-null      object \n",
      " 8   currency                1 non-null      object \n",
      " 9   delayedPrice            0 non-null      object \n",
      " 10  delayedPriceTime        0 non-null      object \n",
      " 11  extendedChange          0 non-null      object \n",
      " 12  extendedChangePercent   0 non-null      object \n",
      " 13  extendedPrice           0 non-null      object \n",
      " 14  extendedPriceTime       0 non-null      object \n",
      " 15  high                    0 non-null      object \n",
      " 16  highSource              0 non-null      object \n",
      " 17  highTime                0 non-null      object \n",
      " 18  iexAskPrice             1 non-null      int64  \n",
      " 19  iexAskSize              1 non-null      int64  \n",
      " 20  iexBidPrice             1 non-null      int64  \n",
      " 21  iexBidSize              1 non-null      int64  \n",
      " 22  iexClose                1 non-null      float64\n",
      " 23  iexCloseTime            1 non-null      int64  \n",
      " 24  iexLastUpdated          1 non-null      int64  \n",
      " 25  iexMarketPercent        1 non-null      float64\n",
      " 26  iexOpen                 1 non-null      float64\n",
      " 27  iexOpenTime             1 non-null      int64  \n",
      " 28  iexRealtimePrice        1 non-null      float64\n",
      " 29  iexRealtimeSize         1 non-null      int64  \n",
      " 30  iexVolume               1 non-null      int64  \n",
      " 31  lastTradeTime           1 non-null      int64  \n",
      " 32  latestPrice             1 non-null      float64\n",
      " 33  latestSource            1 non-null      object \n",
      " 34  latestTime              1 non-null      object \n",
      " 35  latestUpdate            1 non-null      int64  \n",
      " 36  latestVolume            0 non-null      object \n",
      " 37  low                     0 non-null      object \n",
      " 38  lowSource               0 non-null      object \n",
      " 39  lowTime                 0 non-null      object \n",
      " 40  marketCap               1 non-null      int64  \n",
      " 41  oddLotDelayedPrice      0 non-null      object \n",
      " 42  oddLotDelayedPriceTime  0 non-null      object \n",
      " 43  open                    0 non-null      object \n",
      " 44  openTime                0 non-null      object \n",
      " 45  openSource              1 non-null      object \n",
      " 46  peRatio                 1 non-null      float64\n",
      " 47  previousClose           1 non-null      float64\n",
      " 48  previousVolume          1 non-null      int64  \n",
      " 49  primaryExchange         1 non-null      object \n",
      " 50  symbol                  1 non-null      object \n",
      " 51  volume                  0 non-null      object \n",
      " 52  week52High              1 non-null      float64\n",
      " 53  week52Low               1 non-null      float64\n",
      " 54  ytdChange               1 non-null      float64\n",
      " 55  isUSMarketOpen          1 non-null      bool   \n",
      "dtypes: bool(1), float64(12), int64(14), object(29)\n",
      "memory usage: 573.0+ bytes\n"
     ]
    }
   ],
   "source": [
    "df.info()"
   ]
  },
  {
   "cell_type": "markdown",
   "metadata": {},
   "source": [
    "#### Step 2 - API call using a separate environemnt for secure API key storage  "
   ]
  },
  {
   "cell_type": "code",
   "execution_count": 5,
   "metadata": {},
   "outputs": [
    {
     "name": "stdout",
     "output_type": "stream",
     "text": [
      "{'coord': {'lon': 13.4105, 'lat': 52.5244}, 'weather': [{'id': 803, 'main': 'Clouds', 'description': 'broken clouds', 'icon': '04d'}], 'base': 'stations', 'main': {'temp': 291.44, 'feels_like': 291.41, 'temp_min': 289.82, 'temp_max': 293.14, 'pressure': 995, 'humidity': 80}, 'visibility': 10000, 'wind': {'speed': 4.47, 'deg': 235, 'gust': 6.26}, 'clouds': {'all': 75}, 'dt': 1717144821, 'sys': {'type': 2, 'id': 2011538, 'country': 'DE', 'sunrise': 1717123816, 'sunset': 1717183096}, 'timezone': 7200, 'id': 2950159, 'name': 'Berlin', 'cod': 200}\n"
     ]
    }
   ],
   "source": [
    "# API - OpenWeather for weather data (forecasts)\n",
    "\n",
    "# Base URL from OpenWeather for Current Weather - in this case taking Berlin as city\n",
    "\n",
    "base_url = 'https://api.openweathermap.org/data/2.5/weather?'\n",
    "\n",
    "city = 'Berlin'\n",
    "\n",
    "load_dotenv('API.env') # in this case key is stored in a separate .env file that is explicitly excluded from publishing using .gitignore\n",
    "\n",
    "API_key = os.getenv('weather_APIkey') # this variable holds the key securely stored in the .env file\n",
    "\n",
    "if API_key is None: # this check will review if the API key is found \n",
    "    raise ValueError(\"API key not found. Please set it in the API.env file.\")\n",
    "\n",
    "URL = base_url + 'q=' + city + '&appid=' + API_key # this should be the full http call construct before triggering the API call below \n",
    "\n",
    "response = requests.get(URL).json() # calling the API\n",
    "\n",
    "print(response)"
   ]
  },
  {
   "cell_type": "markdown",
   "metadata": {},
   "source": [
    "#### Step 3 - API - Data extraction & interpretation"
   ]
  },
  {
   "cell_type": "code",
   "execution_count": 6,
   "metadata": {},
   "outputs": [
    {
     "name": "stdout",
     "output_type": "stream",
     "text": [
      "Temperature in Berlin: 18.29 C\n",
      "Temperature Feels like in Berlin: 18.26 C\n",
      "Humidity in Berlin: 80 %\n",
      "Wind Speed in Berlin: 4.47 KM/h\n",
      "Description in Berlin: broken clouds\n",
      "Sun rises in Berlin: at 2024-05-31 04:50:16 local time\n",
      "Sun sets in Berlin: at 2024-05-31 21:18:16 local time\n"
     ]
    }
   ],
   "source": [
    "# using the data obtained above in json format, it can now be used and extracted and interpreted for specific purposes. In this example a simple weather summary:\n",
    "\n",
    "# Function to convert temperature from Kelvin to Celsius\n",
    "def kelvin_to_celsius(kelvin):\n",
    "    celsius = kelvin - 273.15\n",
    "    return celsius\n",
    "\n",
    "# Extract the current temperature in Kelvin and convert it to Celsius\n",
    "temp_kelvin = response['main']['temp']\n",
    "temp_celsius = kelvin_to_celsius(temp_kelvin)\n",
    "\n",
    "# Extract the feels-like temperature in Kelvin and convert it to Celsius\n",
    "feels_kelvin = response['main']['feels_like']\n",
    "feels_celsius = kelvin_to_celsius(feels_kelvin)\n",
    "\n",
    "# Extract the humidity percentage\n",
    "humi = response['main']['humidity']\n",
    "\n",
    "# Extract the wind speed in KM/h\n",
    "wind = response['wind']['speed']\n",
    "\n",
    "# Extract the weather description\n",
    "desc = response['weather'][0]['description']\n",
    "\n",
    "# Convert sunrise time from Unix timestamp to UTC datetime and adjust for the city's timezone\n",
    "sunrise = dt.datetime.utcfromtimestamp(response['sys']['sunrise'] + response['timezone'])\n",
    "\n",
    "# Convert sunset time from Unix timestamp to UTC datetime and adjust for the city's timezone\n",
    "sunset = dt.datetime.utcfromtimestamp(response['sys']['sunset'] + response['timezone'])\n",
    "\n",
    "# Print the extracted and calculated weather information\n",
    "print(f\"Temperature in {city}: {temp_celsius:.2f} C\")\n",
    "print(f\"Temperature Feels like in {city}: {feels_celsius:.2f} C\")\n",
    "print(f\"Humidity in {city}: {humi} %\")\n",
    "print(f\"Wind Speed in {city}: {wind} KM/h\")\n",
    "print(f\"Description in {city}: {desc}\")\n",
    "print(f\"Sun rises in {city}: at {sunrise} local time\")\n",
    "print(f\"Sun sets in {city}: at {sunset} local time\")\n"
   ]
  },
  {
   "cell_type": "markdown",
   "metadata": {},
   "source": [
    "#### Step 4 - API as DF from Alpha Vantage open API "
   ]
  },
  {
   "cell_type": "code",
   "execution_count": 7,
   "metadata": {},
   "outputs": [
    {
     "name": "stdout",
     "output_type": "stream",
     "text": [
      "{'Realtime Currency Exchange Rate': {'1. From_Currency Code': 'BTC', '2. From_Currency Name': 'Bitcoin', '3. To_Currency Code': 'USD', '4. To_Currency Name': 'United States Dollar', '5. Exchange Rate': '68223.62000000', '6. Last Refreshed': '2024-05-31 08:45:00', '7. Time Zone': 'UTC', '8. Bid Price': '68221.44300000', '9. Ask Price': '68226.47100000'}}\n"
     ]
    }
   ],
   "source": [
    "# obtaining real-time exchange rate of BTC to USD \n",
    "url = 'https://www.alphavantage.co/query?function=CURRENCY_EXCHANGE_RATE&from_currency=BTC&to_currency=USD&apikey=JP4ZISE4HHNPVDAI'\n",
    "r = requests.get(url)\n",
    "data = r.json()\n",
    "\n",
    "print(data)"
   ]
  },
  {
   "cell_type": "code",
   "execution_count": 8,
   "metadata": {},
   "outputs": [
    {
     "name": "stdout",
     "output_type": "stream",
     "text": [
      "  From_Currency Code From_Currency Name To_Currency Code  \\\n",
      "0                BTC            Bitcoin              USD   \n",
      "\n",
      "       To_Currency Name   Exchange Rate       Last Refreshed Time Zone  \\\n",
      "0  United States Dollar  68223.62000000  2024-05-31 08:45:00       UTC   \n",
      "\n",
      "        Bid Price       Ask Price  \n",
      "0  68221.44300000  68226.47100000  \n"
     ]
    }
   ],
   "source": [
    "# extract the nested dictionary - when nested lists are complex they need to be flattened \n",
    "nested_dict = data['Realtime Currency Exchange Rate']\n",
    "\n",
    "# convert the python dictionary to a DataFrame\n",
    "df = pd.json_normalize(nested_dict)\n",
    "\n",
    "# delete the numeric listing of each title  \n",
    "df.columns = [col.split('. ', 1)[-1] for col in df.columns]\n",
    "\n",
    "\n",
    "print(df)"
   ]
  },
  {
   "cell_type": "code",
   "execution_count": 9,
   "metadata": {},
   "outputs": [
    {
     "name": "stdout",
     "output_type": "stream",
     "text": [
      "{'Meta Data': {'1. Information': 'Monthly Prices and Volumes for Digital Currency', '2. Digital Currency Code': 'BTC', '3. Digital Currency Name': 'Bitcoin', '4. Market Code': 'USD', '5. Market Name': 'United States Dollar', '6. Last Refreshed': '2024-05-31 00:00:00', '7. Time Zone': 'UTC'}, 'Time Series (Digital Currency Monthly)': {'2024-05-31': {'1. open': '60621.20000000', '2. high': '71980.00000000', '3. low': '56500.00000000', '4. close': '68351.27000000', '5. volume': '310204.16717985'}, '2024-04-30': {'1. open': '71291.50000000', '2. high': '72777.00000000', '3. low': '59040.30000000', '4. close': '60622.10000000', '5. volume': '436707.10534896'}, '2024-03-31': {'1. open': '61179.03000000', '2. high': '73835.57000000', '3. low': '59224.68000000', '4. close': '71291.28000000', '5. volume': '679595.87228082'}, '2024-02-29': {'1. open': '42545.47000000', '2. high': '64100.00000000', '3. low': '41846.04000000', '4. close': '61179.03000000', '5. volume': '414784.13735321'}, '2024-01-31': {'1. open': '42288.58000000', '2. high': '49102.29000000', '3. low': '38501.00000000', '4. close': '42548.08000000', '5. volume': '562705.97221512'}, '2023-12-31': {'1. open': '37732.27000000', '2. high': '45000.00000000', '3. low': '37618.25000000', '4. close': '42288.06000000', '5. volume': '385233.38029565'}, '2023-11-30': {'1. open': '34656.38000000', '2. high': '38480.00000000', '3. low': '34079.46000000', '4. close': '37732.27000000', '5. volume': '367150.53471415'}, '2023-10-31': {'1. open': '26961.00000000', '2. high': '35157.23000000', '3. low': '26521.32000000', '4. close': '34656.40000000', '5. volume': '412497.87942229'}, '2023-09-30': {'1. open': '25931.51000000', '2. high': '27500.00000000', '3. low': '24900.00000000', '4. close': '26961.00000000', '5. volume': '282902.40995980'}}}\n"
     ]
    }
   ],
   "source": [
    "# the montly time series for BTC to USD exchange rate using secure key environment\n",
    "\n",
    "base_url = 'https://www.alphavantage.co/query?function=DIGITAL_CURRENCY_MONTHLY&symbol=BTC&market=USD&'\n",
    "\n",
    "load_dotenv('API.env') # in this case key is stored in a separate .env file that is explicitly excluded from publishing using .gitignore\n",
    "\n",
    "API_key = os.getenv('alpha_APIkey') # this variable holds the key securely stored in the .env file\n",
    "\n",
    "if API_key is None: # this check will review if the API key is found \n",
    "    raise ValueError(\"API key not found. Please set it in the API.env file.\")\n",
    "\n",
    "url = base_url + 'apikey=' + API_key\n",
    "\n",
    "r = requests.get(url)\n",
    "data = r.json()\n",
    "\n",
    "print(data) "
   ]
  },
  {
   "cell_type": "code",
   "execution_count": 10,
   "metadata": {},
   "outputs": [
    {
     "data": {
      "text/plain": [
       "{'Meta Data': {'1. Information': 'Monthly Prices and Volumes for Digital Currency',\n",
       "  '2. Digital Currency Code': 'BTC',\n",
       "  '3. Digital Currency Name': 'Bitcoin',\n",
       "  '4. Market Code': 'USD',\n",
       "  '5. Market Name': 'United States Dollar',\n",
       "  '6. Last Refreshed': '2024-05-31 00:00:00',\n",
       "  '7. Time Zone': 'UTC'},\n",
       " 'Time Series (Digital Currency Monthly)': {'2024-05-31': {'1. open': '60621.20000000',\n",
       "   '2. high': '71980.00000000',\n",
       "   '3. low': '56500.00000000',\n",
       "   '4. close': '68351.27000000',\n",
       "   '5. volume': '310204.16717985'},\n",
       "  '2024-04-30': {'1. open': '71291.50000000',\n",
       "   '2. high': '72777.00000000',\n",
       "   '3. low': '59040.30000000',\n",
       "   '4. close': '60622.10000000',\n",
       "   '5. volume': '436707.10534896'},\n",
       "  '2024-03-31': {'1. open': '61179.03000000',\n",
       "   '2. high': '73835.57000000',\n",
       "   '3. low': '59224.68000000',\n",
       "   '4. close': '71291.28000000',\n",
       "   '5. volume': '679595.87228082'},\n",
       "  '2024-02-29': {'1. open': '42545.47000000',\n",
       "   '2. high': '64100.00000000',\n",
       "   '3. low': '41846.04000000',\n",
       "   '4. close': '61179.03000000',\n",
       "   '5. volume': '414784.13735321'},\n",
       "  '2024-01-31': {'1. open': '42288.58000000',\n",
       "   '2. high': '49102.29000000',\n",
       "   '3. low': '38501.00000000',\n",
       "   '4. close': '42548.08000000',\n",
       "   '5. volume': '562705.97221512'},\n",
       "  '2023-12-31': {'1. open': '37732.27000000',\n",
       "   '2. high': '45000.00000000',\n",
       "   '3. low': '37618.25000000',\n",
       "   '4. close': '42288.06000000',\n",
       "   '5. volume': '385233.38029565'},\n",
       "  '2023-11-30': {'1. open': '34656.38000000',\n",
       "   '2. high': '38480.00000000',\n",
       "   '3. low': '34079.46000000',\n",
       "   '4. close': '37732.27000000',\n",
       "   '5. volume': '367150.53471415'},\n",
       "  '2023-10-31': {'1. open': '26961.00000000',\n",
       "   '2. high': '35157.23000000',\n",
       "   '3. low': '26521.32000000',\n",
       "   '4. close': '34656.40000000',\n",
       "   '5. volume': '412497.87942229'},\n",
       "  '2023-09-30': {'1. open': '25931.51000000',\n",
       "   '2. high': '27500.00000000',\n",
       "   '3. low': '24900.00000000',\n",
       "   '4. close': '26961.00000000',\n",
       "   '5. volume': '282902.40995980'}}}"
      ]
     },
     "execution_count": 10,
     "metadata": {},
     "output_type": "execute_result"
    }
   ],
   "source": [
    "data"
   ]
  },
  {
   "cell_type": "code",
   "execution_count": 11,
   "metadata": {},
   "outputs": [
    {
     "name": "stdout",
     "output_type": "stream",
     "text": [
      "                      open            high             low           close  \\\n",
      "2023-09-30  25931.51000000  27500.00000000  24900.00000000  26961.00000000   \n",
      "2023-10-31  26961.00000000  35157.23000000  26521.32000000  34656.40000000   \n",
      "2023-11-30  34656.38000000  38480.00000000  34079.46000000  37732.27000000   \n",
      "2023-12-31  37732.27000000  45000.00000000  37618.25000000  42288.06000000   \n",
      "2024-01-31  42288.58000000  49102.29000000  38501.00000000  42548.08000000   \n",
      "2024-02-29  42545.47000000  64100.00000000  41846.04000000  61179.03000000   \n",
      "2024-03-31  61179.03000000  73835.57000000  59224.68000000  71291.28000000   \n",
      "2024-04-30  71291.50000000  72777.00000000  59040.30000000  60622.10000000   \n",
      "2024-05-31  60621.20000000  71980.00000000  56500.00000000  68351.27000000   \n",
      "\n",
      "                     volume  \n",
      "2023-09-30  282902.40995980  \n",
      "2023-10-31  412497.87942229  \n",
      "2023-11-30  367150.53471415  \n",
      "2023-12-31  385233.38029565  \n",
      "2024-01-31  562705.97221512  \n",
      "2024-02-29  414784.13735321  \n",
      "2024-03-31  679595.87228082  \n",
      "2024-04-30  436707.10534896  \n",
      "2024-05-31  310204.16717985  \n"
     ]
    }
   ],
   "source": [
    "# Extract the time series data\n",
    "time_series_data = data['Time Series (Digital Currency Monthly)']\n",
    "\n",
    "# Convert the time series data into a DataFrame\n",
    "df = pd.DataFrame.from_dict(time_series_data, orient='index')\n",
    "\n",
    "# Optionally, rename the columns for better readability\n",
    "df.columns = ['open', 'high', 'low', 'close', 'volume']\n",
    "\n",
    "# Convert the index to datetime format and sort it\n",
    "df.index = pd.to_datetime(df.index)\n",
    "df = df.sort_index()\n",
    "\n",
    "print(df)"
   ]
  },
  {
   "cell_type": "code",
   "execution_count": 12,
   "metadata": {},
   "outputs": [
    {
     "name": "stdout",
     "output_type": "stream",
     "text": [
      "<class 'pandas.core.frame.DataFrame'>\n",
      "DatetimeIndex: 9 entries, 2023-09-30 to 2024-05-31\n",
      "Data columns (total 5 columns):\n",
      " #   Column  Non-Null Count  Dtype \n",
      "---  ------  --------------  ----- \n",
      " 0   open    9 non-null      object\n",
      " 1   high    9 non-null      object\n",
      " 2   low     9 non-null      object\n",
      " 3   close   9 non-null      object\n",
      " 4   volume  9 non-null      object\n",
      "dtypes: object(5)\n",
      "memory usage: 432.0+ bytes\n"
     ]
    }
   ],
   "source": [
    "df.info()"
   ]
  },
  {
   "cell_type": "code",
   "execution_count": 13,
   "metadata": {},
   "outputs": [
    {
     "data": {
      "image/png": "[encoded data removed]",
      "text/plain": [
       "<Figure size 1000x600 with 1 Axes>"
      ]
     },
     "metadata": {},
     "output_type": "display_data"
    }
   ],
   "source": [
    "\n",
    "# visualising data → simple lineplot to depict the montly closing price \n",
    "\n",
    "# Convert the index to datetime format and sort it\n",
    "df.index = pd.to_datetime(df.index)\n",
    "df = df.sort_index()\n",
    "\n",
    "df = df.astype(float)\n",
    "\n",
    "# Plot the 'close' column\n",
    "plt.figure(figsize=(10, 6))\n",
    "plt.plot(df.index, df['close'], marker='o', linestyle='-', color='b')\n",
    "\n",
    "# Add title and labels\n",
    "plt.title('Monthly Closing Prices of Bitcoin')\n",
    "plt.xlabel('Date')\n",
    "plt.ylabel('Close Price (USD)')\n",
    "\n",
    "# Rotate the x-axis labels for better readability\n",
    "plt.xticks(rotation=45)\n",
    "\n",
    "# Show the plot\n",
    "plt.tight_layout()\n",
    "plt.show()"
   ]
  },
  {
   "cell_type": "markdown",
   "metadata": {},
   "source": [
    "#### Step 5 - API Function definition \n",
    "\n",
    "This function will be used to automate fetching the data in a data pipeline "
   ]
  },
  {
   "cell_type": "code",
   "execution_count": 14,
   "metadata": {},
   "outputs": [
    {
     "name": "stdout",
     "output_type": "stream",
     "text": [
      "                      open            high             low           close  \\\n",
      "2023-08-06  29047.33000000  29163.24000000  28955.00000000  29040.01000000   \n",
      "2023-08-07  29040.01000000  29246.00000000  28660.53000000  29179.21000000   \n",
      "2023-08-08  29179.28000000  30222.00000000  29104.65000000  29770.01000000   \n",
      "2023-08-09  29770.01000000  30128.88000000  29344.16000000  29562.76000000   \n",
      "2023-08-10  29562.76000000  29709.38000000  29306.00000000  29424.03000000   \n",
      "...                    ...             ...             ...             ...   \n",
      "2024-05-27  68470.80000000  70613.39000000  68210.12000000  69368.72000000   \n",
      "2024-05-28  69366.31000000  69533.96000000  67194.59000000  68321.98000000   \n",
      "2024-05-29  68321.99000000  68864.11000000  67081.66000000  67569.45000000   \n",
      "2024-05-30  67569.44000000  69536.89000000  67092.91000000  68338.58000000   \n",
      "2024-05-31  68338.58000000  68438.78000000  68280.11000000  68351.27000000   \n",
      "\n",
      "                    volume  \n",
      "2023-08-06   2461.64012073  \n",
      "2023-08-07   9200.08523317  \n",
      "2023-08-08  15610.25491294  \n",
      "2023-08-09  10451.45167511  \n",
      "2023-08-10   7104.55622213  \n",
      "...                    ...  \n",
      "2024-05-27   5384.62278063  \n",
      "2024-05-28  11975.93086328  \n",
      "2024-05-29   8970.02059069  \n",
      "2024-05-30  11841.26381893  \n",
      "2024-05-31     78.34317404  \n",
      "\n",
      "[300 rows x 5 columns]\n"
     ]
    }
   ],
   "source": [
    "# this code obtains the required information (daily ) \n",
    "\n",
    "base_url = 'https://www.alphavantage.co/query?function=DIGITAL_CURRENCY_DAILY&symbol=BTC&market=USD&'\n",
    "\n",
    "load_dotenv('API.env') # in this case key is stored in a separate .env file that is explicitly excluded from publishing using .gitignore\n",
    "\n",
    "API_key = os.getenv('alpha_APIkey') # this variable holds the key securely stored in the .env file\n",
    "\n",
    "if API_key is None: # this check will review if the API key is found \n",
    "    raise ValueError(\"API key not found. Please set it in the API.env file.\")\n",
    "\n",
    "url = base_url + 'apikey=' + API_key\n",
    "\n",
    "r = requests.get(url)\n",
    "data = r.json()\n",
    "\n",
    "# Extract the time series data\n",
    "time_series_data = data['Time Series (Digital Currency Daily)']\n",
    "\n",
    "# Convert the time series data into a DataFrame\n",
    "df = pd.DataFrame.from_dict(time_series_data, orient='index')\n",
    "\n",
    "# Optionally, rename the columns for better readability\n",
    "df.columns = ['open', 'high', 'low', 'close', 'volume']\n",
    "\n",
    "# Convert the index to datetime format and sort it\n",
    "df.index = pd.to_datetime(df.index)\n",
    "df = df.sort_index()\n",
    "\n",
    "print(df)\n"
   ]
  },
  {
   "cell_type": "code",
   "execution_count": 15,
   "metadata": {},
   "outputs": [
    {
     "name": "stdout",
     "output_type": "stream",
     "text": [
      "                open      high       low     close        volume\n",
      "2023-08-06  29047.33  29163.24  28955.00  29040.01   2461.640121\n",
      "2023-08-07  29040.01  29246.00  28660.53  29179.21   9200.085233\n",
      "2023-08-08  29179.28  30222.00  29104.65  29770.01  15610.254913\n",
      "2023-08-09  29770.01  30128.88  29344.16  29562.76  10451.451675\n",
      "2023-08-10  29562.76  29709.38  29306.00  29424.03   7104.556222\n",
      "...              ...       ...       ...       ...           ...\n",
      "2024-05-27  68470.80  70613.39  68210.12  69368.72   5384.622781\n",
      "2024-05-28  69366.31  69533.96  67194.59  68321.98  11975.930863\n",
      "2024-05-29  68321.99  68864.11  67081.66  67569.45   8970.020591\n",
      "2024-05-30  67569.44  69536.89  67092.91  68338.58  11841.263819\n",
      "2024-05-31  68338.58  68438.78  68280.11  68351.27     78.343174\n",
      "\n",
      "[300 rows x 5 columns]\n"
     ]
    }
   ],
   "source": [
    "# function defintion to fetch btc daily quotes\n",
    "\n",
    "def get_crypto_data(symbol='BTC', market='USD'):\n",
    "    # Define API endpoint and parameters\n",
    "    base_url = 'https://www.alphavantage.co/query?function=DIGITAL_CURRENCY_DAILY&'\n",
    "    load_dotenv('API.env')  # Load API key from environment variables\n",
    "    api_key = os.getenv('alpha_APIkey')\n",
    "    \n",
    "    # Check if API key exists\n",
    "    if api_key is None:\n",
    "        raise ValueError(\"API key not found. Please set it in the API.env file.\")\n",
    "    \n",
    "    # Construct the complete URL with API key, symbol, and market\n",
    "    url = f\"{base_url}symbol={symbol}&market={market}&apikey={api_key}\"\n",
    "    \n",
    "    # Make a GET request to the API\n",
    "    response = requests.get(url)\n",
    "    \n",
    "    # Check if request was successful (status code 200)\n",
    "    if response.status_code != 200:\n",
    "        raise ValueError(f\"Failed to retrieve data from API. Status code: {response.status_code}\")\n",
    "    \n",
    "    # Extract JSON data from the response\n",
    "    data = response.json()\n",
    "    \n",
    "    # Extract time series data from JSON\n",
    "    time_series_data = data.get('Time Series (Digital Currency Daily)')\n",
    "    \n",
    "    if time_series_data is None:\n",
    "        raise ValueError(\"Time series data not found in API response.\")\n",
    "    \n",
    "    # Convert time series data to DataFrame\n",
    "    df = pd.DataFrame.from_dict(time_series_data, orient='index')\n",
    "    \n",
    "    # Rename columns for readability\n",
    "    df.columns = ['open', 'high', 'low', 'close', 'volume']\n",
    "    \n",
    "    # Convert columns to float\n",
    "    df = df.astype(float)\n",
    "    \n",
    "    # Convert index to datetime and sort\n",
    "    df.index = pd.to_datetime(df.index)\n",
    "    df = df.sort_index()\n",
    "    \n",
    "    return df\n",
    "\n",
    "# Example usage:\n",
    "crypto_df = get_crypto_data()\n",
    "print(crypto_df)\n",
    "\n"
   ]
  },
  {
   "cell_type": "code",
   "execution_count": 16,
   "metadata": {},
   "outputs": [
    {
     "name": "stdout",
     "output_type": "stream",
     "text": [
      "<class 'pandas.core.frame.DataFrame'>\n",
      "DatetimeIndex: 300 entries, 2023-08-06 to 2024-05-31\n",
      "Data columns (total 5 columns):\n",
      " #   Column  Non-Null Count  Dtype  \n",
      "---  ------  --------------  -----  \n",
      " 0   open    300 non-null    float64\n",
      " 1   high    300 non-null    float64\n",
      " 2   low     300 non-null    float64\n",
      " 3   close   300 non-null    float64\n",
      " 4   volume  300 non-null    float64\n",
      "dtypes: float64(5)\n",
      "memory usage: 14.1 KB\n"
     ]
    }
   ],
   "source": [
    "crypto_df.info()"
   ]
  },
  {
   "cell_type": "code",
   "execution_count": 17,
   "metadata": {},
   "outputs": [
    {
     "name": "stdout",
     "output_type": "stream",
     "text": [
      "                open      high       low     close        volume\n",
      "2023-12-01  37732.27  39000.00  37618.25  38703.54  16395.901978\n",
      "2023-12-02  38706.55  39740.00  38660.03  39471.48   7540.768818\n",
      "2023-12-03  39467.42  40221.22  39293.02  39984.81   7153.156638\n",
      "2023-12-04  39984.81  42410.46  39983.60  41987.24  21993.059956\n",
      "2023-12-05  41985.53  45000.00  41384.03  44084.39  24018.760355\n",
      "...              ...       ...       ...       ...           ...\n",
      "2024-05-27  68470.80  70613.39  68210.12  69368.72   5384.622781\n",
      "2024-05-28  69366.31  69533.96  67194.59  68321.98  11975.930863\n",
      "2024-05-29  68321.99  68864.11  67081.66  67569.45   8970.020591\n",
      "2024-05-30  67569.44  69536.89  67092.91  68338.58  11841.263819\n",
      "2024-05-31  68338.58  68438.78  68280.11  68351.27     78.343174\n",
      "\n",
      "[183 rows x 5 columns]\n"
     ]
    }
   ],
   "source": [
    "# extracting the data for specific time intervals, as an example 6 months\n",
    "\n",
    "six_months_ago = pd.Timestamp.today() - pd.DateOffset(months=6)\n",
    "subset_df = crypto_df[crypto_df.index >= six_months_ago]\n",
    "print(subset_df)\n",
    "\n"
   ]
  },
  {
   "cell_type": "code",
   "execution_count": 18,
   "metadata": {},
   "outputs": [
    {
     "name": "stdout",
     "output_type": "stream",
     "text": [
      "                open      high       low     close        volume\n",
      "2023-12-01  37732.27  39000.00  37618.25  38703.54  16395.901978\n",
      "2023-12-02  38706.55  39740.00  38660.03  39471.48   7540.768818\n",
      "2023-12-03  39467.42  40221.22  39293.02  39984.81   7153.156638\n",
      "2023-12-04  39984.81  42410.46  39983.60  41987.24  21993.059956\n",
      "2023-12-05  41985.53  45000.00  41384.03  44084.39  24018.760355\n",
      "...              ...       ...       ...       ...           ...\n",
      "2024-05-27  68470.80  70613.39  68210.12  69368.72   5384.622781\n",
      "2024-05-28  69366.31  69533.96  67194.59  68321.98  11975.930863\n",
      "2024-05-29  68321.99  68864.11  67081.66  67569.45   8970.020591\n",
      "2024-05-30  67569.44  69536.89  67092.91  68338.58  11841.263819\n",
      "2024-05-31  68338.58  68438.78  68280.11  68351.27     78.343174\n",
      "\n",
      "[183 rows x 5 columns]\n"
     ]
    }
   ],
   "source": [
    "# Function definition to fetch BTC daily quotes\n",
    "def get_crypto_data(symbol='BTC', market='USD', past_months=6):\n",
    "    # Define API endpoint and parameters\n",
    "    base_url = 'https://www.alphavantage.co/query?function=DIGITAL_CURRENCY_DAILY&'\n",
    "    load_dotenv('API.env')  # Load API key from environment variables\n",
    "    api_key = os.getenv('alpha_APIkey')\n",
    "    \n",
    "    # Check if API key exists\n",
    "    if api_key is None:\n",
    "        raise ValueError(\"API key not found. Please set it in the API.env file.\")\n",
    "    \n",
    "    # Construct the complete URL with API key, symbol, and market\n",
    "    url = f\"{base_url}symbol={symbol}&market={market}&apikey={api_key}\"\n",
    "    \n",
    "    # Make a GET request to the API\n",
    "    response = requests.get(url)\n",
    "    \n",
    "    # Check if request was successful (status code 200)\n",
    "    if response.status_code != 200:\n",
    "        raise ValueError(f\"Failed to retrieve data from API. Status code: {response.status_code}\")\n",
    "    \n",
    "    # Extract JSON data from the response\n",
    "    data = response.json()\n",
    "    \n",
    "    # Extract time series data from JSON\n",
    "    time_series_data = data.get('Time Series (Digital Currency Daily)')\n",
    "    \n",
    "    if time_series_data is None:\n",
    "        raise ValueError(\"Time series data not found in API response.\")\n",
    "    \n",
    "    # Convert time series data to DataFrame\n",
    "    df = pd.DataFrame.from_dict(time_series_data, orient='index')\n",
    "    \n",
    "    # Rename columns for readability\n",
    "    df.columns = ['open', 'high', 'low', 'close', 'volume']\n",
    "    \n",
    "    # Convert columns to float\n",
    "    df = df.astype(float)\n",
    "    \n",
    "    # Convert index to datetime and sort\n",
    "    df.index = pd.to_datetime(df.index)\n",
    "    df = df.sort_index()\n",
    "    \n",
    "    # Filter data for the past specified months\n",
    "    if past_months is not None:\n",
    "        cutoff_date = pd.Timestamp.today() - pd.DateOffset(months=past_months)\n",
    "        df = df[df.index >= cutoff_date]\n",
    "    \n",
    "    return df\n",
    "\n",
    "# Example usage:\n",
    "crypto_df = get_crypto_data(past_months=6)  # Fetch data for the past 6 months\n",
    "print(crypto_df)"
   ]
  },
  {
   "cell_type": "code",
   "execution_count": 19,
   "metadata": {},
   "outputs": [
    {
     "name": "stdout",
     "output_type": "stream",
     "text": [
      "          date      open      high       low     close        volume\n",
      "0   2023-12-01  37732.27  39000.00  37618.25  38703.54  16395.901978\n",
      "1   2023-12-02  38706.55  39740.00  38660.03  39471.48   7540.768818\n",
      "2   2023-12-03  39467.42  40221.22  39293.02  39984.81   7153.156638\n",
      "3   2023-12-04  39984.81  42410.46  39983.60  41987.24  21993.059956\n",
      "4   2023-12-05  41985.53  45000.00  41384.03  44084.39  24018.760355\n",
      "..         ...       ...       ...       ...       ...           ...\n",
      "178 2024-05-27  68470.80  70613.39  68210.12  69368.72   5384.622781\n",
      "179 2024-05-28  69366.31  69533.96  67194.59  68321.98  11975.930863\n",
      "180 2024-05-29  68321.99  68864.11  67081.66  67569.45   8970.020591\n",
      "181 2024-05-30  67569.44  69536.89  67092.91  68338.58  11841.263819\n",
      "182 2024-05-31  68338.58  68438.78  68280.11  68351.27     78.343174\n",
      "\n",
      "[183 rows x 6 columns]\n"
     ]
    }
   ],
   "source": [
    "import requests\n",
    "import pandas as pd\n",
    "import os\n",
    "from datetime import datetime\n",
    "from dateutil.relativedelta import relativedelta\n",
    "from dotenv import load_dotenv\n",
    "\n",
    "def get_crypto_data(symbol='BTC', market='USD', past_months=6):\n",
    "    # Define API endpoint and parameters\n",
    "    base_url = 'https://www.alphavantage.co/query?function=DIGITAL_CURRENCY_DAILY&'\n",
    "    load_dotenv('API.env')  # Load API key from environment variables\n",
    "    api_key = os.getenv('alpha_APIkey')\n",
    "    \n",
    "    # Check if API key exists\n",
    "    if api_key is None:\n",
    "        raise ValueError(\"API key not found. Please set it in the API.env file.\")\n",
    "    \n",
    "    # Construct the complete URL with API key, symbol, and market\n",
    "    url = f\"{base_url}symbol={symbol}&market={market}&apikey={api_key}\"\n",
    "    \n",
    "    # Make a GET request to the API\n",
    "    response = requests.get(url)\n",
    "    \n",
    "    # Check if request was successful (status code 200)\n",
    "    if response.status_code != 200:\n",
    "        raise ValueError(f\"Failed to retrieve data from API. Status code: {response.status_code}\")\n",
    "    \n",
    "    # Extract JSON data from the response\n",
    "    data = response.json()\n",
    "    \n",
    "    # Extract time series data from JSON\n",
    "    time_series_data = data.get('Time Series (Digital Currency Daily)')\n",
    "    \n",
    "    if time_series_data is None:\n",
    "        raise ValueError(\"Time series data not found in API response.\")\n",
    "    \n",
    "    # Convert time series data to DataFrame\n",
    "    df = pd.DataFrame.from_dict(time_series_data, orient='index')\n",
    "    \n",
    "    # Rename columns for readability\n",
    "    df.columns = ['open', 'high', 'low', 'close', 'volume']\n",
    "    \n",
    "    # Convert columns to float\n",
    "    df = df.astype(float)\n",
    "    \n",
    "    # Convert index to datetime and sort\n",
    "    df.index = pd.to_datetime(df.index)\n",
    "    df = df.sort_index()\n",
    "    \n",
    "    # Filter data for the past specified months\n",
    "    if past_months is not None:\n",
    "        cutoff_date = pd.Timestamp.today() - pd.DateOffset(months=past_months)\n",
    "        df = df[df.index >= cutoff_date]\n",
    "    \n",
    "    # Reset the index to move the date from index to column\n",
    "    df.reset_index(inplace=True)\n",
    "    df.rename(columns={'index': 'date'}, inplace=True)\n",
    "    \n",
    "    return df\n",
    "\n",
    "# Example usage:\n",
    "crypto_df = get_crypto_data(past_months=6)  # Fetch data for the past 6 months\n",
    "print(crypto_df)\n",
    "\n"
   ]
  },
  {
   "cell_type": "code",
   "execution_count": 20,
   "metadata": {},
   "outputs": [
    {
     "name": "stdout",
     "output_type": "stream",
     "text": [
      "<class 'pandas.core.frame.DataFrame'>\n",
      "RangeIndex: 183 entries, 0 to 182\n",
      "Data columns (total 6 columns):\n",
      " #   Column  Non-Null Count  Dtype         \n",
      "---  ------  --------------  -----         \n",
      " 0   date    183 non-null    datetime64[ns]\n",
      " 1   open    183 non-null    float64       \n",
      " 2   high    183 non-null    float64       \n",
      " 3   low     183 non-null    float64       \n",
      " 4   close   183 non-null    float64       \n",
      " 5   volume  183 non-null    float64       \n",
      "dtypes: datetime64[ns](1), float64(5)\n",
      "memory usage: 8.7 KB\n"
     ]
    }
   ],
   "source": [
    "crypto_df.info()"
   ]
  }
 ],
 "metadata": {
  "kernelspec": {
   "display_name": "Project7",
   "language": "python",
   "name": "python3"
  },
  "language_info": {
   "codemirror_mode": {
    "name": "ipython",
    "version": 3
   },
   "file_extension": ".py",
   "mimetype": "text/x-python",
   "name": "python",
   "nbconvert_exporter": "python",
   "pygments_lexer": "ipython3",
   "version": "3.11.9"
  }
 },
 "nbformat": 4,
 "nbformat_minor": 2
}
