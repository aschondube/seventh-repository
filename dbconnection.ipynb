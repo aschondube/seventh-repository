{
 "cells": [
  {
   "cell_type": "markdown",
   "metadata": {},
   "source": [
    "### Railway PostgreSQL DB Connection\n",
    "\n",
    "This file is used to import the data and fill in the SQL DB hosted on RailwayApp.\n",
    "  "
   ]
  },
  {
   "cell_type": "markdown",
   "metadata": {},
   "source": [
    "#### Step 1 - Create Tables"
   ]
  },
  {
   "cell_type": "code",
   "execution_count": 2,
   "metadata": {},
   "outputs": [],
   "source": [
    "\n",
    "import pandas as pd\n",
    "import os\n",
    "import psycopg2\n",
    "from psycopg2 import sql\n",
    "from dotenv import load_dotenv"
   ]
  },
  {
   "cell_type": "code",
   "execution_count": 2,
   "metadata": {},
   "outputs": [
    {
     "name": "stdout",
     "output_type": "stream",
     "text": [
      "           Date                                              Title\n",
      "0    2024-05-30     European bitcoin ETPs suffer mounting outflows\n",
      "1    2024-05-24  British-Chinese bitcoin money launderer jailed...\n",
      "2    2024-05-24                      Cryptofinance: into the ether\n",
      "3    2024-05-23  SEC paves way for ethereum ETFs in boost for c...\n",
      "4    2024-05-22           First UK crypto ETPs to launch on May 28\n",
      "..          ...                                                ...\n",
      "100  2023-12-07                               The return of crypto\n",
      "101  2023-12-05                       Bitcoin’s bounceback déjà vu\n",
      "102  2023-12-05                     The jobs market is still tight\n",
      "103  2023-12-05  Buying frenzy puts some Grayscale crypto funds...\n",
      "104  2023-12-04  Bitcoin price surges above $42,000 as rate cut...\n",
      "\n",
      "[105 rows x 2 columns]\n"
     ]
    }
   ],
   "source": [
    "# Code below includes relevant module as well as connection with the BTC News function so that it is triggered and sends the details into the \n",
    "\n",
    "import pandas as pd\n",
    "import os\n",
    "import psycopg2\n",
    "from psycopg2 import sql\n",
    "from dotenv import load_dotenv\n",
    "\n",
    "\n",
    "load_dotenv()\n",
    "\n",
    "\n",
    "db_url = os.getenv('db_url')\n",
    "conn = psycopg2.connect(db_url)\n",
    "\n",
    "cur = conn.cursor()\n",
    "\n",
    "cur.execute('''\n",
    "    CREATE TABLE IF NOT EXISTS btc_news (\n",
    "        Date DATE,\n",
    "        Title TEXT PRIMARY KEY\n",
    ")\n",
    "''')\n",
    "\n",
    "cur.execute('''\n",
    "    CREATE TABLE IF NOT EXISTS btc_prices (\n",
    "        date DATE PRIMARY KEY,\n",
    "        open FLOAT,\n",
    "        high FLOAT,\n",
    "        low FLOAT,\n",
    "        close FLOAT,\n",
    "        volume FLOAT\n",
    ")        \n",
    "''')\n",
    "\n",
    "conn.commit()\n",
    "\n",
    "conn.close()"
   ]
  },
  {
   "cell_type": "markdown",
   "metadata": {},
   "source": [
    "#### Step 2 - Fill in tables"
   ]
  },
  {
   "cell_type": "code",
   "execution_count": 10,
   "metadata": {},
   "outputs": [],
   "source": [
    "# function to send data into the postgresql db\n",
    "\n",
    "from fun_btc_news import scrape_ft_bitcoin_articles\n",
    "\n",
    "def insert_btc_news(conn, data):\n",
    "    try:\n",
    "        cursor = conn.cursor()\n",
    "        for index, row in data.iterrows():\n",
    "            cursor.execute('''\n",
    "                INSERT INTO btc_news(date, title)\n",
    "                VALUES (%s, %s)\n",
    "                ON CONFLICT (title) DO NOTHING\n",
    "            ''', (row['Date'], row['Title']))\n",
    "        conn.commit()\n",
    "        cursor.close()\n",
    "    except Exception as e:\n",
    "        print(f'Error inserting btc news data: {e}')\n",
    "        conn.rollback()"
   ]
  },
  {
   "cell_type": "code",
   "execution_count": 11,
   "metadata": {},
   "outputs": [],
   "source": [
    "# function to send data into the postgresql db\n",
    "\n",
    "from fun_btc_price import get_crypto_data\n",
    "\n",
    "def insert_btc_prices(conn, data):\n",
    "    try:\n",
    "        cursor= conn.cursor()\n",
    "        for index, row in data.iterrows():\n",
    "            cursor.execute('''\n",
    "                INSERT INTO btc_prices(date, open, high, low, close, volume)\n",
    "                VALUES(%s, %s, %s, %s, %s, %s)\n",
    "                ON CONFLICT (date) DO NOTHING\n",
    "            ''', (row['date'], row['open'], row['high'], row['low'], row['close'], row['volume']))\n",
    "        conn.commit()\n",
    "        conn.close()\n",
    "    except Exception as e:\n",
    "        print(f'Error inserting btc prices: {e}')\n",
    "        conn.rollback()"
   ]
  },
  {
   "cell_type": "markdown",
   "metadata": {},
   "source": [
    "#### Step 3 - Main function\n",
    "\n",
    "This main function will serve as a \"master\" function that will trigger both fetching data and filling in the received data into the cloud db with a query. "
   ]
  },
  {
   "cell_type": "code",
   "execution_count": 12,
   "metadata": {},
   "outputs": [],
   "source": [
    "# calling the main/master function which will trigger both scraping and API fetching and will subsequently send the data to the db\n",
    "\n",
    "def main():\n",
    "    \n",
    "    btc_data_news = scrape_ft_bitcoin_articles() # this triggers the \"news\" function and stores the result in the variable\n",
    "    \n",
    "    btc_data_prices = get_crypto_data(symbol='BTC', market='USD', past_months=6) # same as above but with prices\n",
    "    \n",
    "    conn = psycopg2.connect(db_url) # establish a connection with the cloud db\n",
    "    \n",
    "    if conn: # once data is obtained and connection is established, data is filled into the db\n",
    "        insert_btc_news(conn, btc_data_news)\n",
    "        insert_btc_prices(conn, btc_data_prices)\n",
    "        \n",
    "        conn.close()\n",
    "    else:\n",
    "        print('Failed to connect to the database')\n",
    "\n",
    "if __name__ == '_main_':\n",
    "    main()\n",
    "        "
   ]
  },
  {
   "cell_type": "code",
   "execution_count": 14,
   "metadata": {},
   "outputs": [
    {
     "name": "stdout",
     "output_type": "stream",
     "text": [
      "Error inserting btc news data: not all arguments converted during string formatting\n",
      "Error inserting btc prices: not all arguments converted during string formatting\n"
     ]
    }
   ],
   "source": [
    "main()"
   ]
  },
  {
   "cell_type": "markdown",
   "metadata": {},
   "source": [
    "#### Step 4 - Code aggregation\n",
    "\n",
    "Below code is consolidated into a continous script that can be used in an automated environment (for future testing with AWS lambda)"
   ]
  },
  {
   "cell_type": "code",
   "execution_count": 15,
   "metadata": {},
   "outputs": [
    {
     "name": "stdout",
     "output_type": "stream",
     "text": [
      "BTC News DataFrame:\n",
      "        Date                                              Title\n",
      "0 2024-05-30     European bitcoin ETPs suffer mounting outflows\n",
      "1 2024-05-24  British-Chinese bitcoin money launderer jailed...\n",
      "2 2024-05-24                      Cryptofinance: into the ether\n",
      "3 2024-05-23  SEC paves way for ethereum ETFs in boost for c...\n",
      "4 2024-05-22           First UK crypto ETPs to launch on May 28\n",
      "\n",
      "BTC Prices DataFrame:\n",
      "        date      open      high       low     close        volume\n",
      "0 2023-12-01  37732.27  39000.00  37618.25  38703.54  16395.901978\n",
      "1 2023-12-02  38706.55  39740.00  38660.03  39471.48   7540.768818\n",
      "2 2023-12-03  39467.42  40221.22  39293.02  39984.81   7153.156638\n",
      "3 2023-12-04  39984.81  42410.46  39983.60  41987.24  21993.059956\n",
      "4 2023-12-05  41985.53  45000.00  41384.03  44084.39  24018.760355\n",
      "Connected to the database.\n",
      "Data inserted and connection closed.\n"
     ]
    }
   ],
   "source": [
    "import os\n",
    "import psycopg2\n",
    "import pandas as pd\n",
    "from dotenv import load_dotenv\n",
    "from fun_btc_price import get_crypto_data\n",
    "from fun_btc_news import scrape_ft_bitcoin_articles\n",
    "\n",
    "load_dotenv()\n",
    "db_url = os.getenv('db_url')\n",
    "\n",
    "def insert_btc_news(conn, data):\n",
    "    try:\n",
    "        cursor = conn.cursor()\n",
    "        for _, row in data.iterrows():\n",
    "            cursor.execute('''\n",
    "                INSERT INTO btc_news (date, title)\n",
    "                VALUES (%s, %s)\n",
    "                ON CONFLICT (title) DO NOTHING\n",
    "            ''', (row['Date'], row['Title']))\n",
    "        conn.commit()\n",
    "        cursor.close()\n",
    "    except Exception as e:\n",
    "        print(f'Error inserting btc news data: {e}')\n",
    "        conn.rollback()\n",
    "\n",
    "def insert_btc_prices(conn, data):\n",
    "    try:\n",
    "        cursor = conn.cursor()\n",
    "        for _, row in data.iterrows():\n",
    "            cursor.execute('''\n",
    "                INSERT INTO btc_prices (date, open, high, low, close, volume)\n",
    "                VALUES (%s, %s, %s, %s, %s, %s)\n",
    "                ON CONFLICT (date) DO NOTHING\n",
    "            ''', (row['date'], row['open'], row['high'], row['low'], row['close'], row['volume']))\n",
    "        conn.commit()\n",
    "        cursor.close()\n",
    "    except Exception as e:\n",
    "        print(f'Error inserting btc prices data: {e}')\n",
    "        conn.rollback()\n",
    "\n",
    "def main():\n",
    "    btc_data_news = scrape_ft_bitcoin_articles()\n",
    "    btc_data_prices = get_crypto_data(symbol='BTC', market='USD', past_months=6)\n",
    "    \n",
    "    # Debug: Print DataFrames to ensure they contain data\n",
    "    print(\"BTC News DataFrame:\")\n",
    "    print(btc_data_news.head())\n",
    "    print(\"\\nBTC Prices DataFrame:\")\n",
    "    print(btc_data_prices.head())\n",
    "    \n",
    "    conn = psycopg2.connect(db_url)\n",
    "    \n",
    "    if conn:\n",
    "        print(\"Connected to the database.\")\n",
    "        insert_btc_news(conn, btc_data_news)\n",
    "        insert_btc_prices(conn, btc_data_prices)\n",
    "        conn.close()\n",
    "        print(\"Data inserted and connection closed.\")\n",
    "    else:\n",
    "        print('Failed to connect to the database')\n",
    "\n",
    "if __name__ == \"__main__\":\n",
    "    main()\n"
   ]
  },
  {
   "cell_type": "markdown",
   "metadata": {},
   "source": [
    "#### Step 5 - Query execution\n",
    "\n",
    "Example queries to review the data that has been passed onto the cloud db.\n"
   ]
  },
  {
   "cell_type": "code",
   "execution_count": 4,
   "metadata": {},
   "outputs": [
    {
     "name": "stdout",
     "output_type": "stream",
     "text": [
      "          date                                              title     close  \\\n",
      "0   2024-01-08  Price war for spot bitcoin ETF heats up ahead ...  46995.10   \n",
      "1   2024-01-10  Bitcoin swings sharply after false claim that ...  46666.11   \n",
      "2   2024-01-10        Fake bitcoin post shows SEC crypto quandary  46666.11   \n",
      "3   2024-01-10  Bitcoin X hack an ‘embarrassment’ for security...  46666.11   \n",
      "4   2024-01-11  SEC approves first spot bitcoin ETFs in boost ...  46342.66   \n",
      "5   2024-01-11  Stablecoin operator Circle files for second at...  46342.66   \n",
      "6   2024-01-12  SEC’s bitcoin ETF sign-off comes with a stark ...  42773.03   \n",
      "7   2024-01-18  Firms pitch inverse crypto funds after SEC’s b...  41292.71   \n",
      "8   2024-01-22  ​SEC says false bitcoin post came after phone ...  39524.27   \n",
      "9   2024-02-22  The SEC approved Bitcoin ETFs. The European Ce...  51258.70   \n",
      "10  2024-03-11    UK regulator to allow crypto-related securities  72110.98   \n",
      "11  2024-04-05  Terraform Labs and Do Kwon found liable for fr...  67856.51   \n",
      "12  2024-05-23  SEC paves way for ethereum ETFs in boost for c...  67940.45   \n",
      "\n",
      "          volume  \n",
      "0   26447.173266  \n",
      "1   36534.397659  \n",
      "2   36534.397659  \n",
      "3   36534.397659  \n",
      "4   38150.894788  \n",
      "5   38150.894788  \n",
      "6   46862.433472  \n",
      "7   25097.423992  \n",
      "8   26539.343387  \n",
      "9   13104.514081  \n",
      "10  32332.725832  \n",
      "11  15515.821342  \n",
      "12  14340.278436  \n"
     ]
    }
   ],
   "source": [
    "# getting data from DB executing sql queries using a connector\n",
    "\n",
    "import pandas as pd\n",
    "import os\n",
    "import psycopg2\n",
    "from dotenv import load_dotenv\n",
    "\n",
    "# Load database URL from .env file\n",
    "load_dotenv()\n",
    "db_url = os.getenv('db_url')\n",
    "\n",
    "# Function to execute the query and fetch results\n",
    "def fetch_news_with_prices_containing_ftc(conn):\n",
    "    try:\n",
    "        cursor = conn.cursor()\n",
    "        # Define the SQL query\n",
    "        query = '''\n",
    "            SELECT \n",
    "                n.date, \n",
    "                n.title, \n",
    "                p.close, \n",
    "                p.volume\n",
    "            FROM \n",
    "                btc_news n\n",
    "            JOIN \n",
    "                btc_prices p ON n.date = p.date\n",
    "            WHERE \n",
    "                n.title ILIKE '%SEC%'\n",
    "        '''\n",
    "        # Execute the query\n",
    "        cursor.execute(query)\n",
    "        # Fetch all results\n",
    "        results = cursor.fetchall()\n",
    "        # Define column names for the result set\n",
    "        columns = ['date', 'title', 'close', 'volume']\n",
    "        # Convert the results to a DataFrame\n",
    "        df = pd.DataFrame(results, columns=columns)\n",
    "        cursor.close()\n",
    "        return df\n",
    "    except Exception as e:\n",
    "        print(f'Error executing query: {e}')\n",
    "        return None\n",
    "\n",
    "# Main function to connect to the database and run the query\n",
    "def main():\n",
    "    conn = psycopg2.connect(db_url)\n",
    "    if conn:\n",
    "        news_with_prices_df = fetch_news_with_prices_containing_ftc(conn)\n",
    "        if news_with_prices_df is not None:\n",
    "            print(news_with_prices_df)\n",
    "        conn.close()\n",
    "    else:\n",
    "        print('Failed to connect to the database')\n",
    "\n",
    "# Execute the main function\n",
    "if __name__ == \"__main__\":\n",
    "    main()"
   ]
  }
 ],
 "metadata": {
  "kernelspec": {
   "display_name": "Project7",
   "language": "python",
   "name": "python3"
  },
  "language_info": {
   "codemirror_mode": {
    "name": "ipython",
    "version": 3
   },
   "file_extension": ".py",
   "mimetype": "text/x-python",
   "name": "python",
   "nbconvert_exporter": "python",
   "pygments_lexer": "ipython3",
   "version": "3.11.9"
  }
 },
 "nbformat": 4,
 "nbformat_minor": 2
}
